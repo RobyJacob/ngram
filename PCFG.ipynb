{
 "cells": [
  {
   "cell_type": "code",
   "execution_count": 28,
   "metadata": {},
   "outputs": [],
   "source": [
    "import nltk\n",
    "from nltk.corpus import treebank\n",
    "from nltk import PCFG,CFG\n",
    "\n",
    "cfg_grammar = CFG.fromstring('''\n",
    "    S -> NP VP\n",
    "    NP -> ART N | N N | N | NP PP\n",
    "    VP -> V | V NP | V NP PP\n",
    "    PP -> P NP\n",
    "    ART -> 'a'\n",
    "    N -> 'flower' | 'a' | 'blooms'\n",
    "    V -> 'blooms' | 'flower'\n",
    "''')\n",
    "\n",
    "pcfg_grammar = PCFG.fromstring('''\n",
    "    S -> NP VP [1.0]\n",
    "    NP -> ART N [0.53] | N N [0.09] | N [0.14] | NP PP [0.24]\n",
    "    VP -> V [0.386] | V NP [0.393] | V NP PP [0.22]\n",
    "    PP -> P NP [1.0]\n",
    "    ART -> 'a' [1.0]\n",
    "    N -> 'flower' [0.8] | 'a' [0.1] | 'blooms' [0.1]\n",
    "    V -> 'blooms' [0.8] | 'flower' [0.2]\n",
    "''')"
   ]
  },
  {
   "cell_type": "code",
   "execution_count": 30,
   "metadata": {},
   "outputs": [
    {
     "data": {
      "text/plain": [
       "[S -> NP VP,\n",
       " NP -> ART N,\n",
       " NP -> N N,\n",
       " NP -> N,\n",
       " NP -> NP PP,\n",
       " VP -> V,\n",
       " VP -> V NP,\n",
       " VP -> V NP PP,\n",
       " PP -> P NP,\n",
       " ART -> 'a',\n",
       " N -> 'flower',\n",
       " N -> 'a',\n",
       " N -> 'blooms',\n",
       " V -> 'blooms',\n",
       " V -> 'flower']"
      ]
     },
     "execution_count": 30,
     "metadata": {},
     "output_type": "execute_result"
    }
   ],
   "source": [
    "cfg_grammar.productions()"
   ]
  },
  {
   "cell_type": "code",
   "execution_count": 134,
   "metadata": {},
   "outputs": [
    {
     "data": {
      "text/plain": [
       "[S -> NP VP [1.0],\n",
       " NP -> ART N [0.53],\n",
       " NP -> N N [0.09],\n",
       " NP -> N [0.14],\n",
       " NP -> NP PP [0.24],\n",
       " VP -> V [0.386],\n",
       " VP -> V NP [0.393],\n",
       " VP -> V NP PP [0.22],\n",
       " PP -> P NP [1.0],\n",
       " ART -> 'a' [1.0],\n",
       " N -> 'flower' [0.8],\n",
       " N -> 'a' [0.1],\n",
       " N -> 'blooms' [0.1],\n",
       " V -> 'blooms' [0.8],\n",
       " V -> 'flower' [0.2]]"
      ]
     },
     "execution_count": 134,
     "metadata": {},
     "output_type": "execute_result"
    }
   ],
   "source": [
    "pcfg_grammar.productions()"
   ]
  },
  {
   "cell_type": "markdown",
   "metadata": {},
   "source": [
    "# Answer 1"
   ]
  },
  {
   "cell_type": "code",
   "execution_count": 135,
   "metadata": {},
   "outputs": [
    {
     "name": "stdout",
     "output_type": "stream",
     "text": [
      "          S          \n",
      "      ____|______     \n",
      "     NP          VP  \n",
      "  ___|____       |    \n",
      "ART       N      V   \n",
      " |        |      |    \n",
      " a      flower blooms\n",
      "\n",
      "          S          \n",
      "      ____|______     \n",
      "     NP          VP  \n",
      "  ___|____       |    \n",
      " N        N      V   \n",
      " |        |      |    \n",
      " a      flower blooms\n",
      "\n",
      "      S              \n",
      "  ____|_____          \n",
      " |          VP       \n",
      " |     _____|____     \n",
      " NP   |          NP  \n",
      " |    |          |    \n",
      " N    V          N   \n",
      " |    |          |    \n",
      " a  flower     blooms\n",
      "\n"
     ]
    }
   ],
   "source": [
    "words = ['a','flower','blooms']\n",
    "\n",
    "chart_parser = nltk.ChartParser(cfg_grammar)\n",
    "trees = []\n",
    "for tree in chart_parser.parse(words):\n",
    "    trees.append(tree)\n",
    "    tree.pretty_print()\n",
    "    \n",
    "    "
   ]
  },
  {
   "cell_type": "markdown",
   "metadata": {},
   "source": [
    "# Answer 2"
   ]
  },
  {
   "cell_type": "code",
   "execution_count": 136,
   "metadata": {},
   "outputs": [
    {
     "name": "stdout",
     "output_type": "stream",
     "text": [
      "          S          \n",
      "      ____|______     \n",
      "     NP          VP  \n",
      "  ___|____       |    \n",
      "ART       N      V   \n",
      " |        |      |    \n",
      " a      flower blooms\n",
      "\n",
      "None\n"
     ]
    }
   ],
   "source": [
    "viterbi_parser = nltk.ViterbiParser(pcfg_grammar)\n",
    "for tree in viterbi_parser.parse(words):\n",
    "    print tree.pretty_print()"
   ]
  },
  {
   "cell_type": "markdown",
   "metadata": {},
   "source": [
    "# Answer 3"
   ]
  },
  {
   "cell_type": "code",
   "execution_count": 137,
   "metadata": {},
   "outputs": [
    {
     "name": "stdout",
     "output_type": "stream",
     "text": [
      "{\"N -> 'blooms'\": 0.1, 'VP -> V NP PP': 0.22, 'NP -> NP PP': 0.24, \"ART -> 'a'\": 1.0, 'NP -> N': 0.14, 'NP -> ART N': 0.53, \"N -> 'flower'\": 0.8, 'NP -> N N': 0.09, \"N -> 'a'\": 0.1, \"V -> 'flower'\": 0.2, 'VP -> V': 0.386, 'VP -> V NP': 0.393, 'S -> NP VP': 1.0, \"V -> 'blooms'\": 0.8, 'PP -> P NP': 1.0}\n"
     ]
    }
   ],
   "source": [
    "import re\n",
    "\n",
    "production_reg_exp = re.compile('^\\w+ -> \\'*[\\w \\w]*\\'*')\n",
    "prob_reg_exp = re.compile('\\[\\d.\\d+\\]$')\n",
    "\n",
    "prob_lookup_table = {}\n",
    "for production in pcfg_grammar.productions():\n",
    "    try:\n",
    "        prob_lookup_table[production_reg_exp.findall(str(production))[0].strip()] = \\\n",
    "        float(prob_reg_exp.findall(str(production))[0].replace('[','').replace(']',''))\n",
    "    except KeyError:\n",
    "        print 'Key not found'\n",
    "        \n",
    "print prob_lookup_table"
   ]
  },
  {
   "cell_type": "code",
   "execution_count": 138,
   "metadata": {},
   "outputs": [
    {
     "name": "stdout",
     "output_type": "stream",
     "text": [
      "{'tree1': 0.13093120000000003, 'tree3': 1.5405600000000004e-05, 'tree2': 0.00222336}\n",
      "total probability: 0.1331699656\n"
     ]
    }
   ],
   "source": [
    "productions,tree_prob,c = {},{},1\n",
    "for tree in trees:\n",
    "    productions['tree'+str(c%4)] = tree.productions()\n",
    "    c += 1\n",
    "    \n",
    "for tree,tree_production in productions.items():\n",
    "    for production in tree_production:\n",
    "        try:\n",
    "            tree_prob[tree] *= prob_lookup_table[str(production)]\n",
    "        except KeyError:\n",
    "            tree_prob[tree] = 1\n",
    "\n",
    "print tree_prob\n",
    "\n",
    "sum_prob = 0.0\n",
    "for prob in tree_prob.values():\n",
    "    sum_prob += prob\n",
    "    \n",
    "print 'total probability:',sum_prob"
   ]
  },
  {
   "cell_type": "code",
   "execution_count": null,
   "metadata": {},
   "outputs": [],
   "source": []
  }
 ],
 "metadata": {
  "kernelspec": {
   "display_name": "Python 2",
   "language": "python",
   "name": "python2"
  },
  "language_info": {
   "codemirror_mode": {
    "name": "ipython",
    "version": 2
   },
   "file_extension": ".py",
   "mimetype": "text/x-python",
   "name": "python",
   "nbconvert_exporter": "python",
   "pygments_lexer": "ipython2",
   "version": "2.7.15"
  }
 },
 "nbformat": 4,
 "nbformat_minor": 2
}
