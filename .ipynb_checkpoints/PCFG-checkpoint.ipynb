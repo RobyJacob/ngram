{
 "cells": [
  {
   "cell_type": "code",
   "execution_count": 28,
   "metadata": {},
   "outputs": [],
   "source": [
    "import nltk\n",
    "from nltk.corpus import treebank\n",
    "from nltk import PCFG,CFG\n",
    "\n",
    "cfg_grammar = CFG.fromstring('''\n",
    "    S -> NP VP\n",
    "    NP -> ART N | N N | N | NP PP\n",
    "    VP -> V | V NP | V NP PP\n",
    "    PP -> P NP\n",
    "    ART -> 'a'\n",
    "    N -> 'flower' | 'a' | 'blooms'\n",
    "    V -> 'blooms' | 'flower'\n",
    "''')\n",
    "\n",
    "pcfg_grammar = PCFG.fromstring('''\n",
    "    S -> NP VP [1.0]\n",
    "    NP -> ART N [0.53] | N N [0.09] | N [0.14] | NP PP [0.24]\n",
    "    VP -> V [0.386] | V NP [0.393] | V NP PP [0.22]\n",
    "    PP -> P NP [1.0]\n",
    "    ART -> 'a' [1.0]\n",
    "    N -> 'flower' [0.8] | 'a' [0.1] | 'blooms' [0.1]\n",
    "    V -> 'blooms' [0.8] | 'flower' [0.2]\n",
    "''')"
   ]
  },
  {
   "cell_type": "code",
   "execution_count": 29,
   "metadata": {},
   "outputs": [
    {
     "data": {
      "text/plain": [
       "S"
      ]
     },
     "execution_count": 29,
     "metadata": {},
     "output_type": "execute_result"
    }
   ],
   "source": [
    "cfg_grammar.start()"
   ]
  },
  {
   "cell_type": "code",
   "execution_count": 30,
   "metadata": {},
   "outputs": [
    {
     "data": {
      "text/plain": [
       "[S -> NP VP,\n",
       " NP -> ART N,\n",
       " NP -> N N,\n",
       " NP -> N,\n",
       " NP -> NP PP,\n",
       " VP -> V,\n",
       " VP -> V NP,\n",
       " VP -> V NP PP,\n",
       " PP -> P NP,\n",
       " ART -> 'a',\n",
       " N -> 'flower',\n",
       " N -> 'a',\n",
       " N -> 'blooms',\n",
       " V -> 'blooms',\n",
       " V -> 'flower']"
      ]
     },
     "execution_count": 30,
     "metadata": {},
     "output_type": "execute_result"
    }
   ],
   "source": [
    "cfg_grammar.productions()"
   ]
  },
  {
   "cell_type": "code",
   "execution_count": 51,
   "metadata": {},
   "outputs": [
    {
     "data": {
      "text/plain": [
       "['S', '->', 'NP', 'VP', '[1.0]']"
      ]
     },
     "execution_count": 51,
     "metadata": {},
     "output_type": "execute_result"
    }
   ],
   "source": [
    "str(pcfg_grammar.productions()[0]).split()"
   ]
  },
  {
   "cell_type": "code",
   "execution_count": 38,
   "metadata": {},
   "outputs": [
    {
     "name": "stdout",
     "output_type": "stream",
     "text": [
      "(S (NP (ART a) (N flower)) (VP (V blooms)))\n",
      "(S (NP (N a) (N flower)) (VP (V blooms)))\n",
      "(S (NP (N a)) (VP (V flower) (NP (N blooms))))\n"
     ]
    }
   ],
   "source": [
    "words = ['a','flower','blooms']\n",
    "\n",
    "chart_parser = nltk.ChartParser(cfg_grammar)\n",
    "for tree in chart_parser.parse(words):\n",
    "    print tree"
   ]
  },
  {
   "cell_type": "code",
   "execution_count": 40,
   "metadata": {},
   "outputs": [
    {
     "name": "stdout",
     "output_type": "stream",
     "text": [
      "(S (NP (ART a) (N flower)) (VP (V blooms))) (p=0.130931)\n"
     ]
    }
   ],
   "source": [
    "viterbi_parser = nltk.ViterbiParser(pcfg_grammar)\n",
    "for tree in viterbi_parser.parse(words):\n",
    "    print tyep(tree),tree"
   ]
  },
  {
   "cell_type": "code",
   "execution_count": null,
   "metadata": {},
   "outputs": [],
   "source": []
  }
 ],
 "metadata": {
  "kernelspec": {
   "display_name": "Python 2",
   "language": "python",
   "name": "python2"
  },
  "language_info": {
   "codemirror_mode": {
    "name": "ipython",
    "version": 2
   },
   "file_extension": ".py",
   "mimetype": "text/x-python",
   "name": "python",
   "nbconvert_exporter": "python",
   "pygments_lexer": "ipython2",
   "version": "2.7.15"
  }
 },
 "nbformat": 4,
 "nbformat_minor": 2
}
