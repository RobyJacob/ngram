{
 "cells": [
  {
   "cell_type": "markdown",
   "metadata": {},
   "source": [
    "# Ngram tutorial"
   ]
  },
  {
   "cell_type": "code",
   "execution_count": 5,
   "metadata": {},
   "outputs": [],
   "source": [
    "from nltk.corpus import brown"
   ]
  },
  {
   "cell_type": "code",
   "execution_count": 6,
   "metadata": {},
   "outputs": [],
   "source": [
    "import nltk\n",
    "tagged_words = brown.tagged_words()"
   ]
  },
  {
   "cell_type": "markdown",
   "metadata": {},
   "source": [
    "## Write a function to count the number of tags. The function should be named countTags and should take a tag name as input and return tag count"
   ]
  },
  {
   "cell_type": "code",
   "execution_count": 7,
   "metadata": {},
   "outputs": [
    {
     "name": "stdout",
     "output_type": "stream",
     "text": [
      "152470\n",
      "97959\n"
     ]
    }
   ],
   "source": [
    "def countTags(tag_name):\n",
    "    tag_count = nltk.FreqDist(tag for word,tag in tagged_words)\n",
    "    return tag_count[tag_name]\n",
    "\n",
    "print countTags('NN')\n",
    "print countTags('AT')\n",
    "    "
   ]
  },
  {
   "cell_type": "markdown",
   "metadata": {},
   "source": [
    "It should print countTags(\"NN\") as 152470 and countTags(\"AT\") as 97959"
   ]
  },
  {
   "cell_type": "markdown",
   "metadata": {},
   "source": [
    "## Write a function to count the number of words. The function should be named countWords and should take a word name as input and return word count"
   ]
  },
  {
   "cell_type": "code",
   "execution_count": 8,
   "metadata": {},
   "outputs": [
    {
     "name": "stdout",
     "output_type": "stream",
     "text": [
      "62713\n"
     ]
    }
   ],
   "source": [
    "def countWords(word_name):\n",
    "    word_count = nltk.FreqDist(word for word,tag in tagged_words)\n",
    "    return word_count[word_name]\n",
    "\n",
    "print countWords('the')"
   ]
  },
  {
   "cell_type": "markdown",
   "metadata": {},
   "source": [
    "It should print countWords(\"the\") as 62713"
   ]
  },
  {
   "cell_type": "markdown",
   "metadata": {},
   "source": [
    "## Write code to create a dictionary (nested dictionary) where given a word it prints out tag count. "
   ]
  },
  {
   "cell_type": "code",
   "execution_count": 9,
   "metadata": {},
   "outputs": [
    {
     "name": "stdout",
     "output_type": "stream",
     "text": [
      "{u'AT-TL-HL': 1, u'AT-NC': 26, u'AT': 62288, u'NIL': 3, u'AT-HL': 172, u'AT-TL': 223}\n"
     ]
    }
   ],
   "source": [
    "def wordDict(word_name):\n",
    "    cfd = nltk.ConditionalFreqDist(tagged_words)\n",
    "    return dict(cfd[word_name])\n",
    "#     word_tag = []\n",
    "#     for word,tag in tagged_words:\n",
    "#         if word == word_name:\n",
    "#             word_tag.append((word,tag))\n",
    "#     word_tag_count = {}\n",
    "#     word_tag_count[word_name] = nltk.FreqDist(tag for word,tag in word_tag)\n",
    "#     return dict(word_tag_count[word_name])\n",
    "\n",
    "print wordDict('the')"
   ]
  },
  {
   "cell_type": "markdown",
   "metadata": {},
   "source": [
    "For example, assuming the dictionary created is worddict, worddict[\"the\"] should print \n",
    "```python\n",
    "{u'AT-TL-HL': 1, u'AT-NC': 26, u'NIL': 3, u'AT-TL': 223, u'AT': 62288, u'AT-HL': 172}\n",
    "```"
   ]
  },
  {
   "cell_type": "markdown",
   "metadata": {},
   "source": [
    "## Write code to create a dictionary (nested dictionary) where given a tag it prints out bigram tag count. "
   ]
  },
  {
   "cell_type": "markdown",
   "metadata": {},
   "source": [
    "for example, assuming the dictionary created is tagdict, tagdict[\"AT\"] should print \n",
    "```python\n",
    "{u'NP$': 62, u'JJT-TL': 3, u'WDT': 2, u'RBR+CS': 1, u'JJ': 19488, u'AP$': 1, u'RP': 1, u'(': 15, u',': 12, u'RB': 350, u'JJ-HL': 1, u'NNS': 7215, u'NN$': 907, u'NN+BEZ': 13, u'NNS$': 97, u'NIL': 1, u'--': 4, u'OD': 1251, u'FW-NN-TL': 52, u'VB-TL': 3, u'AP-TL': 2, u'NPS': 588, u'NPS-TL': 2, u'FW-JJ': 2, u'HV': 1, u'NPS$': 30, u'FW-RB': 1, u'RB-TL': 1, u'NN+HVZ': 3, u\"'\": 24, u'FW-CC': 1, u'NP$-TL': 17, u'PN': 149, u'NN+MD': 2, u'RB-NC': 1, u'MD': 1, u'NN-HL': 3, u'VBG-TL': 34, u'VBG': 1568, u'VBD': 2, u'VBN-TL': 390, u'VBN': 1468, u'VBZ': 1, u'NN': 48376, u'NR$-TL': 8, u'*': 4, u'.': 4, u'FW-NNS': 11, u'NP': 2230, u'NR': 218, u'FW-NN$': 1, u'``': 620, u'CC': 4, u'OD-TL': 98, u'CD': 981, u'NP-TL': 809, u'JJT': 675, u'JJS': 206, u'JJR': 630, u'PN+HVZ': 1, u'FW-JJT': 1, u'NNS$-TL': 28, u'JJ-TL': 1414, u'FW-VBN': 1, u'FW-JJ-TL': 8, u'FW-VB': 2, u'NN-TL': 2565, u\"''\": 7, u'CD-TL': 29, u'FW-NN-TL-NC': 1, u'PN$': 1, u')': 1, u'PPO': 1, u'PPS': 1, u'UH': 2, u'VB': 16, u'FW-IN': 7, u'RBT': 11, u'RBR': 40, u'ABN': 42, u'AP': 3007, u'BEZ-NC': 1, u'AT': 1, u'JJS-TL': 2, u'IN': 3, u'NR-TL': 208, u'FW-NNS-TL': 5, u'NN+IN': 1, u'NNS-TL': 284, u'JJR-TL': 3, u'NN$-TL': 162, u'FW-IN-TL': 4, u'IN-TL': 1, u'FW-NN': 76, u'QL': 1377}\n",
    "```"
   ]
  },
  {
   "cell_type": "markdown",
   "metadata": {},
   "source": [
    "For this following code can be used\n",
    "```python\n",
    "from nltk.util import ngrams\n",
    "bigrams=ngrams(tags, 2)\n",
    "```\n",
    "tags parameter is the tags list from the corpus. For more details regarding ngrams usage see http://www.nltk.org/_modules/nltk/util.html"
   ]
  },
  {
   "cell_type": "code",
   "execution_count": 12,
   "metadata": {},
   "outputs": [
    {
     "name": "stdout",
     "output_type": "stream",
     "text": [
      "{u'VBG': 1568, u'VBD': 2, u'NP$': 62, u'JJT-TL': 3, u'VBN': 1468, u'WDT': 2, u'RBR+CS': 1, u'JJ': 19488, u'VBZ': 1, u'AP$': 1, u'RP': 1, u'NN': 48376, u'NR$-TL': 8, u'(': 15, u'*': 4, u',': 12, u'.': 4, u'CD-TL': 29, u'RB': 350, u'VBN-TL': 390, u'JJ-HL': 1, u'NR': 218, u'NNS': 7215, u'FW-NN$': 1, u'``': 620, u'CC': 4, u'NN-TL': 2565, u'NN$': 907, u'CD': 981, u'NP': 2230, u'NN+BEZ': 13, u'NNS$': 97, u'NP-TL': 809, u'NIL': 1, u'--': 4, u'OD': 1251, u'JJS': 206, u'JJR': 630, u'FW-NN-TL': 52, u'VB-TL': 3, u'AP-TL': 2, u'JJR-TL': 3, u'FW-JJT': 1, u'NNS$-TL': 28, u'JJ-TL': 1414, u'NPS': 588, u'JJT': 675, u'NPS-TL': 2, u'FW-JJ-TL': 8, u'FW-JJ': 2, u'HV': 1, u\"''\": 7, u'FW-VB': 2, u'NPS$': 30, u'FW-NN-TL-NC': 1, u'FW-RB': 1, u'RB-TL': 1, u'PN$': 1, u'NN+HVZ': 3, u'FW-VBN': 1, u\"'\": 24, u')': 1, u'FW-CC': 1, u'PPO': 1, u'NP$-TL': 17, u'PPS': 1, u'FW-NNS': 11, u'PN': 149, u'UH': 2, u'VB': 16, u'OD-TL': 98, u'FW-IN': 7, u'NN+MD': 2, u'RBT': 11, u'RBR': 40, u'ABN': 42, u'RB-NC': 1, u'BEZ-NC': 1, u'AT': 1, u'JJS-TL': 2, u'IN': 3, u'NR-TL': 208, u'FW-NNS-TL': 5, u'NN+IN': 1, u'MD': 1, u'NNS-TL': 284, u'AP': 3007, u'NN-HL': 3, u'PN+HVZ': 1, u'NN$-TL': 162, u'FW-IN-TL': 4, u'IN-TL': 1, u'FW-NN': 76, u'VBG-TL': 34, u'QL': 1377}\n"
     ]
    }
   ],
   "source": [
    "from nltk.util import ngrams\n",
    "\n",
    "def tagDict(tag):\n",
    "    tags = []\n",
    "    bigrams = ngrams(tagged_words,2)\n",
    "    for a,b in bigrams:\n",
    "        if a[1] == tag:\n",
    "            tags.append(b[1])\n",
    "    tag_fd = nltk.FreqDist(tags)\n",
    "    return dict(tag_fd)\n",
    "    \n",
    "    \n",
    "print tagDict('AT')"
   ]
  },
  {
   "cell_type": "markdown",
   "metadata": {},
   "source": [
    "## Write code to find the probability of assigning tag \"AT NN\" to the phrase \"The man\". It can be found by the product of the two probabilities $P(w_n | t_n)* P(t_n | t_{n−1})$. Assume that \"AT\" is the most probable tag for the word \"The\". \n",
    "\n",
    "Any reasonable assumptions can be made"
   ]
  },
  {
   "cell_type": "code",
   "execution_count": 44,
   "metadata": {},
   "outputs": [
    {
     "name": "stdout",
     "output_type": "stream",
     "text": [
      "0.00151372583369\n"
     ]
    }
   ],
   "source": [
    "import operator\n",
    "tag, tag_count = max(wordDict('the').iteritems(), key=operator.itemgetter(1))\n",
    "p_of_the_given_tag = tag_count / float(countTags(tag))\n",
    "tag2, tag2_count = max(wordDict('man').iteritems(), key=operator.itemgetter(1))\n",
    "p_of_man_given_tag = tag2_count / float(countTags(tag2))\n",
    "bigram_tag, bigram_tag_count = max(tagDict(tag).iteritems(), key=operator.itemgetter(1))\n",
    "p_of_tag2_given_tag = bigram_tag_count / float(countTags(bigram_tag))\n",
    "\n",
    "print p_of_the_given_tag * p_of_man_given_tag * p_of_tag2_given_tag"
   ]
  }
 ],
 "metadata": {
  "kernelspec": {
   "display_name": "Python 2",
   "language": "python",
   "name": "python2"
  },
  "language_info": {
   "codemirror_mode": {
    "name": "ipython",
    "version": 2
   },
   "file_extension": ".py",
   "mimetype": "text/x-python",
   "name": "python",
   "nbconvert_exporter": "python",
   "pygments_lexer": "ipython2",
   "version": "2.7.15"
  }
 },
 "nbformat": 4,
 "nbformat_minor": 2
}
